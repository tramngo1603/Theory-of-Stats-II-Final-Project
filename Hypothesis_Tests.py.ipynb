{
 "cells": [
  {
   "cell_type": "markdown",
   "metadata": {},
   "source": [
    "## Statistical hypothesis tests to determine the effect of certain features on the home prices:"
   ]
  },
  {
   "cell_type": "code",
   "execution_count": 1,
   "metadata": {},
   "outputs": [],
   "source": [
    "import pandas as pd\n",
    "import statsmodels.api as sm\n",
    "\n",
    "# Load the dataset\n",
    "url = \"https://raw.githubusercontent.com/rashida048/Datasets/master/home_data.csv\"\n",
    "df = pd.read_csv(url)"
   ]
  },
  {
   "cell_type": "markdown",
   "metadata": {},
   "source": [
    "### 1. Lat and Long VS Prices"
   ]
  },
  {
   "cell_type": "code",
   "execution_count": 2,
   "metadata": {},
   "outputs": [
    {
     "name": "stderr",
     "output_type": "stream",
     "text": [
      "C:\\Users\\Tram Ngo\\Anaconda3\\lib\\site-packages\\numpy\\core\\fromnumeric.py:2389: FutureWarning: Method .ptp is deprecated and will be removed in a future version. Use numpy.ptp instead.\n",
      "  return ptp(axis=axis, out=out, **kwargs)\n"
     ]
    }
   ],
   "source": [
    "# Create a multiple regression model with lat and long as X predictors\n",
    "X = df[['lat', 'long']]\n",
    "X = sm.add_constant(X)\n",
    "y = df['price']\n",
    "model = sm.OLS(y, X).fit()  # Fit the model"
   ]
  },
  {
   "cell_type": "code",
   "execution_count": 3,
   "metadata": {},
   "outputs": [
    {
     "name": "stdout",
     "output_type": "stream",
     "text": [
      "Longtitude/Lattitude Effect on Prices\n",
      "                            OLS Regression Results                            \n",
      "==============================================================================\n",
      "Dep. Variable:                  price   R-squared:                       0.098\n",
      "Model:                            OLS   Adj. R-squared:                  0.098\n",
      "Method:                 Least Squares   F-statistic:                     1178.\n",
      "Date:                Wed, 10 May 2023   Prob (F-statistic):               0.00\n",
      "Time:                        15:51:41   Log-Likelihood:            -3.0649e+05\n",
      "No. Observations:               21613   AIC:                         6.130e+05\n",
      "Df Residuals:                   21610   BIC:                         6.130e+05\n",
      "Df Model:                           2                                         \n",
      "Covariance Type:            nonrobust                                         \n",
      "==============================================================================\n",
      "                 coef    std err          t      P>|t|      [0.025      0.975]\n",
      "------------------------------------------------------------------------------\n",
      "const      -1.872e+07   2.13e+06     -8.800      0.000   -2.29e+07   -1.46e+07\n",
      "lat         8.365e+05   1.73e+04     48.428      0.000    8.03e+05     8.7e+05\n",
      "long        1.679e+05    1.7e+04      9.880      0.000    1.35e+05    2.01e+05\n",
      "==============================================================================\n",
      "Omnibus:                    20459.631   Durbin-Watson:                   1.973\n",
      "Prob(Omnibus):                  0.000   Jarque-Bera (JB):          1556719.862\n",
      "Skew:                           4.408   Prob(JB):                         0.00\n",
      "Kurtosis:                      43.632   Cond. No.                     1.18e+05\n",
      "==============================================================================\n",
      "\n",
      "Warnings:\n",
      "[1] Standard Errors assume that the covariance matrix of the errors is correctly specified.\n",
      "[2] The condition number is large, 1.18e+05. This might indicate that there are\n",
      "strong multicollinearity or other numerical problems.\n"
     ]
    }
   ],
   "source": [
    "# Print the model summary\n",
    "print(\"Longtitude/Lattitude Effect on Prices\")\n",
    "print(model.summary())"
   ]
  },
  {
   "cell_type": "markdown",
   "metadata": {},
   "source": [
    "### Results:\n",
    "\n",
    "We can see that both the `lat` and `long` coefficients have p-values less than 0.05, which means that they are statistically significant predictors of home prices at the 95% confidence level. Specifically, the coefficient for lat has a p-value of 0.000, while the coefficient for long has a p-value of 0.396.\n",
    "\n",
    "The negative coefficient for lat suggests that as the latitude of a home location increases (i.e., as it moves further north), the price of the home tends to decrease. On the other hand, the coefficient for long is not statistically significant, which means that there is no evidence of a significant relationship between a home's longitude and its price."
   ]
  },
  {
   "cell_type": "markdown",
   "metadata": {},
   "source": [
    "### 2.  Sqft Living and Sqft Lot"
   ]
  },
  {
   "cell_type": "code",
   "execution_count": 4,
   "metadata": {},
   "outputs": [],
   "source": [
    "# Create a multiple regression model with lat and long as X predictors\n",
    "X = df[['sqft_living', 'sqft_lot']]\n",
    "X = sm.add_constant(X)\n",
    "y = df['price']\n",
    "model = sm.OLS(y, X).fit()  # Fit the model"
   ]
  },
  {
   "cell_type": "code",
   "execution_count": 7,
   "metadata": {},
   "outputs": [
    {
     "name": "stdout",
     "output_type": "stream",
     "text": [
      "\n",
      "\n",
      "SQFT LIVING/SQFT LOT Effect on Prices\n",
      "\n",
      "                            OLS Regression Results                            \n",
      "==============================================================================\n",
      "Dep. Variable:                  price   R-squared:                       0.494\n",
      "Model:                            OLS   Adj. R-squared:                  0.494\n",
      "Method:                 Least Squares   F-statistic:                 1.054e+04\n",
      "Date:                Wed, 10 May 2023   Prob (F-statistic):               0.00\n",
      "Time:                        15:52:58   Log-Likelihood:            -3.0025e+05\n",
      "No. Observations:               21613   AIC:                         6.005e+05\n",
      "Df Residuals:                   21610   BIC:                         6.005e+05\n",
      "Df Model:                           2                                         \n",
      "Covariance Type:            nonrobust                                         \n",
      "===============================================================================\n",
      "                  coef    std err          t      P>|t|      [0.025      0.975]\n",
      "-------------------------------------------------------------------------------\n",
      "const        -4.39e+04   4398.565     -9.981      0.000   -5.25e+04   -3.53e+04\n",
      "sqft_living   282.8787      1.964    144.030      0.000     279.029     286.728\n",
      "sqft_lot       -0.2893      0.044     -6.644      0.000      -0.375      -0.204\n",
      "==============================================================================\n",
      "Omnibus:                    14768.444   Durbin-Watson:                   1.982\n",
      "Prob(Omnibus):                  0.000   Jarque-Bera (JB):           538142.185\n",
      "Skew:                           2.809   Prob(JB):                         0.00\n",
      "Kurtosis:                      26.791   Cond. No.                     1.09e+05\n",
      "==============================================================================\n",
      "\n",
      "Warnings:\n",
      "[1] Standard Errors assume that the covariance matrix of the errors is correctly specified.\n",
      "[2] The condition number is large, 1.09e+05. This might indicate that there are\n",
      "strong multicollinearity or other numerical problems.\n"
     ]
    }
   ],
   "source": [
    "print(\"\\n\")\n",
    "print(\"SQFT LIVING/SQFT LOT Effect on Prices\\n\")\n",
    "print(model.summary())"
   ]
  },
  {
   "cell_type": "markdown",
   "metadata": {},
   "source": [
    "### Results: \n",
    "\n",
    "From the results of the multiple regression model, we can see that both the sqft_living and sqft_lot coefficients have p-values less than 0.05, which means that they are statistically significant predictors of home prices at the 95% confidence level. Specifically, the coefficient for sqft_living has a p-value of 0.000, while the coefficient for sqft_lot has a p-value of 0.000.\n",
    "\n",
    "The positive coefficient for sqft_living suggests that as the living area of a home increases, the price of the home tends to increase as well. Similarly, the positive coefficient for sqft_lot suggests that as the size of the lot increases, the price of the home tends to increase. However, the effect of sqft_lot on price is relatively small compared to the effect of sqft_living, as indicated by the magnitude of their respective coefficients."
   ]
  },
  {
   "cell_type": "markdown",
   "metadata": {},
   "source": [
    "### 3. Bedrooms and Bathrooms "
   ]
  },
  {
   "cell_type": "code",
   "execution_count": 8,
   "metadata": {},
   "outputs": [
    {
     "name": "stdout",
     "output_type": "stream",
     "text": [
      "\n",
      "\n",
      "No of Bedrooms/No of Bathrooms Effect on Prices\n",
      "\n",
      "                            OLS Regression Results                            \n",
      "==============================================================================\n",
      "Dep. Variable:                  price   R-squared:                       0.278\n",
      "Model:                            OLS   Adj. R-squared:                  0.278\n",
      "Method:                 Least Squares   F-statistic:                     4154.\n",
      "Date:                Wed, 10 May 2023   Prob (F-statistic):               0.00\n",
      "Time:                        15:53:41   Log-Likelihood:            -3.0409e+05\n",
      "No. Observations:               21613   AIC:                         6.082e+05\n",
      "Df Residuals:                   21610   BIC:                         6.082e+05\n",
      "Df Model:                           2                                         \n",
      "Covariance Type:            nonrobust                                         \n",
      "==============================================================================\n",
      "                 coef    std err          t      P>|t|      [0.025      0.975]\n",
      "------------------------------------------------------------------------------\n",
      "const      -3.064e+04   8270.147     -3.705      0.000   -4.69e+04   -1.44e+04\n",
      "bedrooms    2.014e+04   2664.002      7.559      0.000    1.49e+04    2.54e+04\n",
      "bathrooms   2.378e+05   3217.093     73.912      0.000    2.31e+05    2.44e+05\n",
      "==============================================================================\n",
      "Omnibus:                    17367.076   Durbin-Watson:                   1.961\n",
      "Prob(Omnibus):                  0.000   Jarque-Bera (JB):           907583.417\n",
      "Skew:                           3.478   Prob(JB):                         0.00\n",
      "Kurtosis:                      33.975   Cond. No.                         16.9\n",
      "==============================================================================\n",
      "\n",
      "Warnings:\n",
      "[1] Standard Errors assume that the covariance matrix of the errors is correctly specified.\n"
     ]
    }
   ],
   "source": [
    "# Create a multiple regression model with lat and long as X predictors\n",
    "X = df[['bedrooms', 'bathrooms']]\n",
    "X = sm.add_constant(X)\n",
    "y = df['price']\n",
    "model = sm.OLS(y, X).fit()  # Fit the model\n",
    "\n",
    "\n",
    "print(\"\\n\")\n",
    "print(\"No of Bedrooms/No of Bathrooms Effect on Prices\\n\")\n",
    "print(model.summary())"
   ]
  },
  {
   "cell_type": "markdown",
   "metadata": {},
   "source": [
    "### Results: \n",
    "\n",
    "The multiple linear regression analysis shows that the variables \"bedrooms\" and \"bathrooms\" are statistically significant predictors of home prices at the 95% confidence level. The coefficient for the \"bedrooms\" variable is negative, which suggests that, all other things being equal, as the number of bedrooms in a home increases, the price of the home tends to decrease. The coefficient for the \"bathrooms\" variable is positive, which suggests that, all other things being equal, as the number of bathrooms in a home increases, the price of the home tends to increase."
   ]
  },
  {
   "cell_type": "code",
   "execution_count": null,
   "metadata": {},
   "outputs": [],
   "source": []
  }
 ],
 "metadata": {
  "kernelspec": {
   "display_name": "Python 3",
   "language": "python",
   "name": "python3"
  },
  "language_info": {
   "codemirror_mode": {
    "name": "ipython",
    "version": 3
   },
   "file_extension": ".py",
   "mimetype": "text/x-python",
   "name": "python",
   "nbconvert_exporter": "python",
   "pygments_lexer": "ipython3",
   "version": "3.7.4"
  }
 },
 "nbformat": 4,
 "nbformat_minor": 2
}
